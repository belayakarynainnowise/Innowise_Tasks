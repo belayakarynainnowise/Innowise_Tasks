{
 "cells": [
  {
   "cell_type": "markdown",
   "id": "d3df79dd",
   "metadata": {},
   "source": [
    "## Упражнения по библиотеке Numpy"
   ]
  },
  {
   "cell_type": "code",
   "execution_count": 1,
   "id": "76b9c43b",
   "metadata": {},
   "outputs": [],
   "source": [
    "import numpy as np"
   ]
  },
  {
   "cell_type": "markdown",
   "id": "03727b7c",
   "metadata": {},
   "source": [
    "**1.** Дан случайный массив, поменять знак у элементов, значения которых между 3 и 8"
   ]
  },
  {
   "cell_type": "code",
   "execution_count": 3,
   "id": "b89a7523",
   "metadata": {},
   "outputs": [
    {
     "name": "stdout",
     "output_type": "stream",
     "text": [
      "[19 13 16 14 18  4  3  7  5  0  6 12 16 10 10]\n",
      "[19 13 16 14 18 -4  3 -7 -5  0 -6 12 16 10 10]\n"
     ]
    }
   ],
   "source": [
    "array=np.random.randint(0, 20, size=15)\n",
    "print(array)\n",
    "array[(3<array) & (array<=8)] *= -1\n",
    "print(array)"
   ]
  },
  {
   "cell_type": "markdown",
   "id": "5fa4abda",
   "metadata": {},
   "source": [
    "**2.** Заменить максимальный элемент случайного массива на 0"
   ]
  },
  {
   "cell_type": "code",
   "execution_count": 4,
   "id": "f2788a6e",
   "metadata": {},
   "outputs": [
    {
     "name": "stdout",
     "output_type": "stream",
     "text": [
      "[ 9 13 19 11  1 18 11  2 18  6  4 12 12  4  2]\n",
      "[ 9 13  0 11  1 18 11  2 18  6  4 12 12  4  2]\n"
     ]
    }
   ],
   "source": [
    "array=np.random.randint(0, 20, size=15)\n",
    "print(array)\n",
    "print(np.where(array==array.max(),0,array))"
   ]
  },
  {
   "cell_type": "markdown",
   "id": "3cac656b",
   "metadata": {},
   "source": [
    "**3.** Построить прямое произведение массивов (все комбинации с каждым элементом). На вход подается двумерный массив"
   ]
  },
  {
   "cell_type": "code",
   "execution_count": 5,
   "id": "3396b764",
   "metadata": {},
   "outputs": [
    {
     "name": "stdout",
     "output_type": "stream",
     "text": [
      "[[1 4 6]\n",
      " [1 4 7]\n",
      " [1 5 6]\n",
      " [1 5 7]\n",
      " [2 4 6]\n",
      " [2 4 7]\n",
      " [2 5 6]\n",
      " [2 5 7]\n",
      " [3 4 6]\n",
      " [3 4 7]\n",
      " [3 5 6]\n",
      " [3 5 7]]\n"
     ]
    }
   ],
   "source": [
    "def func(arrays):\n",
    "    arrays = [np.asarray(a) for a in arrays]\n",
    "    shape = map(len, arrays)\n",
    "\n",
    "    ix = np.indices(shape, dtype=int)\n",
    "    ix = ix.reshape(len(arrays), -1).T\n",
    "\n",
    "    for n, arr in enumerate(arrays):\n",
    "        ix[:, n] = arrays[n][ix[:, n]]\n",
    "\n",
    "    return ix\n",
    "\n",
    "print(func(([1, 2, 3], [4, 5], [6, 7])))"
   ]
  },
  {
   "cell_type": "markdown",
   "id": "674c9354",
   "metadata": {},
   "source": [
    "**4.** Даны 2 массива A (8x3) и B (2x2). Найти строки в A, которые содержат элементы из каждой строки в B, независимо от порядка элементов в B"
   ]
  },
  {
   "cell_type": "code",
   "execution_count": 6,
   "id": "cb664782",
   "metadata": {},
   "outputs": [
    {
     "name": "stdout",
     "output_type": "stream",
     "text": [
      "[0 1 2 3 4 5 6]\n"
     ]
    }
   ],
   "source": [
    "array1 = np.random.randint(0,5,(8,3))\n",
    "array2 = np.random.randint(0,5,(2,2))\n",
    "array3 = (array1[..., np.newaxis, np.newaxis] == array2)\n",
    "\n",
    "rows = (array3.sum(axis=(1,2,3)) >= array2.shape[1]).nonzero()[0]\n",
    "print(rows)"
   ]
  },
  {
   "cell_type": "markdown",
   "id": "fa46533b",
   "metadata": {},
   "source": [
    "**5.** Дана 10x3 матрица, найти строки из неравных значений (например строка [2,2,3] остается, строка [3,3,3] удаляется)"
   ]
  },
  {
   "cell_type": "code",
   "execution_count": 7,
   "id": "fa545b23",
   "metadata": {},
   "outputs": [
    {
     "name": "stdout",
     "output_type": "stream",
     "text": [
      "[[1 8 3]\n",
      " [1 1 2]\n",
      " [0 0 2]\n",
      " [9 2 3]\n",
      " [8 8 7]\n",
      " [0 0 5]\n",
      " [2 2 3]]\n"
     ]
    }
   ],
   "source": [
    "A = np.array([   [1,8,3],\n",
    "                 [1,1,2],\n",
    "                 [0,0,2],\n",
    "                 [1,1,1],\n",
    "                 [9,2,3],\n",
    "                 [8,8,7],\n",
    "                 [0,0,5],\n",
    "                 [2,2,3],\n",
    "                 [2,2,2],\n",
    "                 [8,8,8],\n",
    "                ])\n",
    "B = np.logical_and.reduce(A[:,1:] == A[:,:-1], axis=1)\n",
    "С = A[~B]\n",
    "print(С)"
   ]
  },
  {
   "cell_type": "markdown",
   "id": "28f0d116",
   "metadata": {},
   "source": [
    "**6.** Дан двумерный массив. Удалить те строки, которые повторяются"
   ]
  },
  {
   "cell_type": "code",
   "execution_count": 8,
   "id": "83d2c0b7",
   "metadata": {},
   "outputs": [
    {
     "name": "stdout",
     "output_type": "stream",
     "text": [
      "[[1 1 1 1 1]\n",
      " [1 3 4 7 0]\n",
      " [1 8 3 3 4]\n",
      " [1 8 9 9 4]]\n"
     ]
    }
   ],
   "source": [
    "A = np.array([   [1,8,3,3,4],\n",
    "                 [1,8,9,9,4],\n",
    "                 [1,8,3,3,4],\n",
    "                 [1,3,4,7,0],\n",
    "                 [1,1,1,1,1],\n",
    "                 [1,1,1,1,1]])\n",
    "\n",
    "print(np.unique(A, axis=0))"
   ]
  },
  {
   "cell_type": "markdown",
   "id": "6daa9e37",
   "metadata": {},
   "source": [
    "______\n",
    "______"
   ]
  },
  {
   "cell_type": "markdown",
   "id": "cfbfcaff",
   "metadata": {},
   "source": [
    "Для каждой из следующих задач (1-5) нужно привести 2 реализации – одна без использования numpy (cчитайте, что там, где на входе или выходе должны быть numpy array, будут просто списки), а вторая полностью векторизованная с использованием numpy (без использования питоновских циклов/map/list comprehension).\n",
    "\n",
    "\n",
    "__Замечание 1.__ Можно считать, что все указанные объекты непустые (к примеру, в __задаче 1__ на диагонали матрицы есть ненулевые элементы).\n",
    "\n",
    "__Замечание 2.__ Для большинства задач решение занимает не больше 1-2 строк."
   ]
  },
  {
   "cell_type": "markdown",
   "id": "673cac7f",
   "metadata": {},
   "source": [
    "___"
   ]
  },
  {
   "cell_type": "markdown",
   "id": "ca6f585e",
   "metadata": {},
   "source": [
    "* __Задача 1__: Подсчитать произведение ненулевых элементов на диагонали прямоугольной матрицы.  \n",
    " Например, для X = np.array([[1, 0, 1], [2, 0, 2], [3, 0, 3], [4, 4, 4]]) ответ 3."
   ]
  },
  {
   "cell_type": "code",
   "execution_count": 9,
   "id": "065862fc",
   "metadata": {},
   "outputs": [
    {
     "name": "stdout",
     "output_type": "stream",
     "text": [
      "3\n",
      "3\n"
     ]
    }
   ],
   "source": [
    "array1=([[1, 0, 1], [2, 0, 2], [3, 0, 3], [4, 4, 4]])\n",
    "\n",
    "def prod_func1(array1):\n",
    "    n=len(array1) # количество строк\n",
    "    m=len(array1[0]) # количество столбцов \n",
    "    p = 1;\n",
    "    for i in range(n):\n",
    "        for j in range(m):\n",
    "            if (i == j):\n",
    "                if array1[i][j]!=0:\n",
    "                    p = p * array1[i][j];\n",
    "    print(p)\n",
    "\n",
    "prod_func1(array1)\n",
    "\n",
    "#numpy\n",
    "\n",
    "array2=np.array([[1, 0, 1], [2, 0, 2], [3, 0, 3], [4, 4, 4]])\n",
    "\n",
    "def prod_func2(array2):\n",
    "    diag = np.diag(array2)\n",
    "    print(diag[diag != 0].prod())\n",
    "\n",
    "prod_func2(array2)\n",
    "\n"
   ]
  },
  {
   "cell_type": "markdown",
   "id": "9fc51d41",
   "metadata": {},
   "source": [
    "* __Задача 2__: Даны два вектора x и y. Проверить, задают ли они одно и то же мультимножество.  \n",
    "  Например, для x = np.array([1, 2, 2, 4]), y = np.array([4, 2, 1, 2]) ответ True."
   ]
  },
  {
   "cell_type": "code",
   "execution_count": 20,
   "id": "a809e02f",
   "metadata": {},
   "outputs": [
    {
     "name": "stdout",
     "output_type": "stream",
     "text": [
      "True\n",
      "True\n"
     ]
    }
   ],
   "source": [
    "x1=[1, 2, 2, 4]\n",
    "y1=[4, 2, 1, 2]\n",
    "\n",
    "\n",
    "def func1(x1,y1):\n",
    "    if(len(x1) != len(y1)):\n",
    "        return False\n",
    "    x1.sort()\n",
    "    y1.sort()\n",
    "    for i in range(len(x1)):\n",
    "        if(x1[i] != y1[i]):\n",
    "            return False\n",
    "    return True\n",
    "    \n",
    "print(func1(x1,y1))\n",
    "\n",
    "\n",
    "#numpy\n",
    "\n",
    "x2 = np.array([1, 2, 2, 4])\n",
    "y2 = np.array([4, 2, 1, 2])\n",
    "\n",
    "def func2(x2,y2):\n",
    "    x_set,x_count=np.unique(x2,return_counts=True)\n",
    "    y_set,y_count=np.unique(y2,return_counts=True)\n",
    "    if(np.shape(x_set) != np.shape(y_set)):\n",
    "        return False\n",
    "    if(np.any(x_set != y_set) or np.any(x_count != y_count)):\n",
    "        return False\n",
    "    return True\n",
    "\n",
    "print(func2(x2,y2))\n"
   ]
  },
  {
   "cell_type": "markdown",
   "id": "b9c185c7",
   "metadata": {},
   "source": [
    "* __Задача 3__: Найти максимальный элемент в векторе x среди элементов, перед которыми стоит ноль. \n",
    " Например, для x = np.array([6, 2, 0, 3, 0, 0, 5, 7, 0]) ответ 5."
   ]
  },
  {
   "cell_type": "code",
   "execution_count": 21,
   "id": "b57df008",
   "metadata": {},
   "outputs": [
    {
     "name": "stdout",
     "output_type": "stream",
     "text": [
      "5\n",
      "5\n"
     ]
    }
   ],
   "source": [
    "x1=([6, 2, 0, 3, 0, 0, 5, 7, 0]) \n",
    "def func1(x1):\n",
    "    print(max(x1[i] for i in range(1, len(x1)) if not x1[i-1]))\n",
    "\n",
    "func1(x1)    \n",
    "\n",
    "\n",
    "#numpy\n",
    "    \n",
    "x2 = np.array([6, 2, 0, 3, 0, 0, 5, 7, 0]) \n",
    "\n",
    "def func2(x2):\n",
    "    zero = x2==0\n",
    "    print (x2[1:][zero[:-1]].max())\n",
    "\n",
    "func2(x2)\n"
   ]
  },
  {
   "cell_type": "markdown",
   "id": "480be4ce",
   "metadata": {},
   "source": [
    "* __Задача 4__: Реализовать кодирование длин серий (Run-length encoding). Для некоторого вектора x необходимо вернуть кортеж из двух векторов одинаковой длины. Первый содержит числа, а второй - сколько раз их нужно повторить.  \n",
    " Например, для x = np.array([2, 2, 2, 3, 3, 3, 5]) ответ (np.array([2, 3, 5]), np.array([3, 3, 1]))."
   ]
  },
  {
   "cell_type": "code",
   "execution_count": 12,
   "id": "3c592124",
   "metadata": {},
   "outputs": [
    {
     "name": "stdout",
     "output_type": "stream",
     "text": [
      "([2, 3, 5], [3, 3, 1])\n",
      "(array([2, 3, 5]), array([3, 3, 1], dtype=int64))\n"
     ]
    }
   ],
   "source": [
    "x1 =([2, 2, 2, 3, 3, 3, 5])\n",
    "\n",
    "def func1(x1):\n",
    "    list1=list()\n",
    "    list2=list()\n",
    "    keys=list()\n",
    "    values=list()\n",
    "    d={}\n",
    "    counter=1\n",
    "    for i in range(len(x1)):\n",
    "        if x1[i] in list1:\n",
    "            counter  =counter + 1\n",
    "            d.update({x1[i]:counter}) \n",
    "        else:\n",
    "            list1.append(x1[i])\n",
    "            counter=1\n",
    "            d={x1[i]:counter}\n",
    "            list2.append(d)\n",
    "    for i in list2:\n",
    "        keys.append(list(i))\n",
    "        values.append(list(i.values()))\n",
    "    return sum(keys, []),sum(values, [])\n",
    "    \n",
    "print(func1(x1))\n",
    "\n",
    "\n",
    "def run_length_encoding_non_vect(x1):\n",
    "    val_list = [x[0]]\n",
    "    num_list = list()\n",
    "    counter = 1\n",
    "    for i in range(1, len(x)):\n",
    "        if(x[i - 1] == x[i]):\n",
    "            counter = counter + 1\n",
    "        else:\n",
    "            val_list.append(x[i])\n",
    "            num_list.append(counter)\n",
    "    num_list.append(counter)\n",
    "    return (val_list, num_list)\n",
    "\n",
    "\n",
    "\n",
    "#numpy\n",
    "\n",
    "x2 = np.array([2, 2, 2, 3, 3, 3, 5])\n",
    "def func2(x2):\n",
    "    x_set,x_count=np.unique(x2,return_counts=True)\n",
    "    return (np.array(x_set),np.array(x_count))\n",
    "\n",
    "print(func2(x2))\n",
    "\n",
    "\n",
    "def run_length_encoding_vect(x2):\n",
    "    y = np.hstack((np.ones(1), x[:- 1]))\n",
    "    first_positions = x != y\n",
    "    first_positions[0] = True\n",
    "    indexes_1 = np.arange(np.size(x))[first_positions]\n",
    "    indexes_2 = np.hstack((indexes_1[1:], np.array([np.size(x)])))\n",
    "\n",
    "    return x[first_positions], indexes_2 - indexes_1\n",
    "\n",
    "\n"
   ]
  },
  {
   "cell_type": "markdown",
   "id": "077532ec",
   "metadata": {},
   "source": [
    "* __Задача 5__: Даны две выборки объектов - X и Y. Вычислить матрицу евклидовых расстояний между объектами. Сравните с функцией scipy.spatial.distance.cdist по скорости работы."
   ]
  },
  {
   "cell_type": "code",
   "execution_count": 18,
   "id": "1e807797",
   "metadata": {},
   "outputs": [
    {
     "name": "stdout",
     "output_type": "stream",
     "text": [
      "[[8.246211251235321, 10.344080432788601, 5.0990195135927845, 3.605551275463989], [5.477225575051661, 8.06225774829855, 3.7416573867739413, 5.385164807134504], [8.54400374531753, 5.477225575051661, 9.1104335791443, 7.874007874011811], [8.48528137423857, 11.789826122551595, 7.3484692283495345, 9.848857801796104], [10.677078252031311, 9.219544457292887, 9.16515138991168, 5.0]]\n"
     ]
    },
    {
     "data": {
      "text/plain": [
       "array([[ 8.24621125, 10.34408043,  5.09901951,  3.60555128],\n",
       "       [ 5.47722558,  8.06225775,  3.74165739,  5.38516481],\n",
       "       [ 8.54400375,  5.47722558,  9.11043358,  7.87400787],\n",
       "       [ 8.48528137, 11.78982612,  7.34846923,  9.8488578 ],\n",
       "       [10.67707825,  9.21954446,  9.16515139,  5.        ]])"
      ]
     },
     "execution_count": 18,
     "metadata": {},
     "output_type": "execute_result"
    }
   ],
   "source": [
    "import math\n",
    "\n",
    "X1=([[9, 5, 1],[6, 5, 0],[2, 1, 7],[3, 9, 9],[9, 0, 0]])\n",
    "Y1=([[1, 7, 1],[0, 0, 2],[5, 8, 2],[9, 3 ,4]])\n",
    "\n",
    "def func1(X1,Y1):\n",
    "    result=list()\n",
    "    for i in range(len(X1)):\n",
    "        list1=list()\n",
    "        for j in range(len(Y1)):\n",
    "            dist = 0\n",
    "            for k in range(len(X1[0])):\n",
    "                dist += (X1[i][k] - Y1[j][k]) ** 2\n",
    "            list1.append(math.sqrt(dist))\n",
    "        result.append(list1)\n",
    "    return result\n",
    "\n",
    "print(func1(X1,Y1))\n",
    "\n",
    "\n",
    "#numpy\n",
    "\n",
    "\n",
    "X2=np.array([[9, 5, 1],[6, 5, 0],[2, 1, 7],[3, 9, 9],[9, 0, 0]])\n",
    "\n",
    "Y2=np.array([[1, 7, 1],[0, 0, 2],[5, 8, 2],[9, 3 ,4]])\n",
    "\n",
    "\n",
    "def func2(X2,Y2):\n",
    "    return np.sqrt(np.sum((X2[:, np.newaxis] - Y2) ** 2, axis=-1))\n",
    "\n",
    "func2(X2,Y2)"
   ]
  },
  {
   "cell_type": "markdown",
   "id": "973e8064",
   "metadata": {},
   "source": [
    "_______\n",
    "________"
   ]
  },
  {
   "cell_type": "markdown",
   "id": "1104acb7",
   "metadata": {},
   "source": [
    "* #### __Задача 6__: CrunchieMunchies __*__\n",
    "\n",
    "Вы работаете в отделе маркетинга пищевой компании MyCrunch, которая разрабатывает новый вид вкусных, полезных злаков под названием **CrunchieMunchies**.\n",
    "\n",
    "Вы хотите продемонстрировать потребителям, насколько полезны ваши хлопья по сравнению с другими ведущими брендами, поэтому вы собрали данные о питании нескольких разных конкурентов.\n",
    "\n",
    "Ваша задача - использовать вычисления Numpy для анализа этих данных и доказать, что ваши **СrunchieMunchies** - самый здоровый выбор для потребителей.\n"
   ]
  },
  {
   "cell_type": "code",
   "execution_count": 77,
   "id": "10a77f8d",
   "metadata": {},
   "outputs": [],
   "source": [
    "import numpy as np"
   ]
  },
  {
   "cell_type": "markdown",
   "id": "ab87cb03",
   "metadata": {},
   "source": [
    "1. Просмотрите файл cereal.csv. Этот файл содержит количества калорий для различных марок хлопьев. Загрузите данные из файла и сохраните их как calorie_stats."
   ]
  },
  {
   "cell_type": "code",
   "execution_count": 128,
   "id": "9681ebf2",
   "metadata": {},
   "outputs": [
    {
     "data": {
      "text/plain": [
       "array([ 70., 120.,  70.,  50., 110., 110., 110., 130.,  90.,  90., 120.,\n",
       "       110., 120., 110., 110., 110., 100., 110., 110., 110., 100., 110.,\n",
       "       100., 100., 110., 110., 100., 120., 120., 110., 100., 110., 100.,\n",
       "       110., 120., 120., 110., 110., 110., 140., 110., 100., 110., 100.,\n",
       "       150., 150., 160., 100., 120., 140.,  90., 130., 120., 100.,  50.,\n",
       "        50., 100., 100., 120., 100.,  90., 110., 110.,  80.,  90.,  90.,\n",
       "       110., 110.,  90., 110., 140., 100., 110., 110., 100., 100., 110.])"
      ]
     },
     "execution_count": 128,
     "metadata": {},
     "output_type": "execute_result"
    }
   ],
   "source": [
    "calorie_stats = np.loadtxt(\"./data/cereal.csv\", delimiter=\",\")\n",
    "calorie_stats"
   ]
  },
  {
   "cell_type": "markdown",
   "id": "139cfbd8",
   "metadata": {},
   "source": [
    "2. В одной порции CrunchieMunchies содержится 60 калорий. Насколько выше среднее количество калорий у ваших конкурентов?\n",
    "\n",
    "Сохраните ответ в переменной average_calories и распечатайте переменную в терминале"
   ]
  },
  {
   "cell_type": "code",
   "execution_count": 115,
   "id": "7036d240",
   "metadata": {},
   "outputs": [
    {
     "name": "stdout",
     "output_type": "stream",
     "text": [
      "mean= 106.88311688311688\n"
     ]
    },
    {
     "data": {
      "text/plain": [
       "46.883116883116884"
      ]
     },
     "execution_count": 115,
     "metadata": {},
     "output_type": "execute_result"
    }
   ],
   "source": [
    "averege_calories=np.mean(calorie_stats)\n",
    "print('mean=',averege_calories)\n",
    "averege_calories-60"
   ]
  },
  {
   "cell_type": "markdown",
   "id": "b2ddb4cd",
   "metadata": {},
   "source": [
    "3. Корректно ли среднее количество калорий отражает распределение набора данных? Давайте отсортируем данные и посмотрим.\n",
    "\n",
    "Отсортируйте данные и сохраните результат в переменной calorie_stats_sorted. Распечатайте отсортированную информацию"
   ]
  },
  {
   "cell_type": "code",
   "execution_count": 120,
   "id": "46eeb4ed",
   "metadata": {},
   "outputs": [
    {
     "data": {
      "text/plain": [
       "array([ 50.,  50.,  50.,  70.,  70.,  80.,  90.,  90.,  90.,  90.,  90.,\n",
       "        90.,  90., 100., 100., 100., 100., 100., 100., 100., 100., 100.,\n",
       "       100., 100., 100., 100., 100., 100., 100., 100., 110., 110., 110.,\n",
       "       110., 110., 110., 110., 110., 110., 110., 110., 110., 110., 110.,\n",
       "       110., 110., 110., 110., 110., 110., 110., 110., 110., 110., 110.,\n",
       "       110., 110., 110., 110., 120., 120., 120., 120., 120., 120., 120.,\n",
       "       120., 120., 120., 130., 130., 140., 140., 140., 150., 150., 160.])"
      ]
     },
     "execution_count": 120,
     "metadata": {},
     "output_type": "execute_result"
    }
   ],
   "source": [
    "calorie_stats_sorted=np.sort(calorie_stats) \n",
    "calorie_stats_sorted"
   ]
  },
  {
   "cell_type": "markdown",
   "id": "4dc74116",
   "metadata": {},
   "source": [
    "4. Похоже, что большинство значений выше среднего. Давайте посмотрим, является ли медиана наиболее корректным показателем набора данных.\n",
    "\n",
    "Вычислите медиану набора данных и сохраните свой ответ в median_calories. Выведите медиану, чтобы вы могли видеть, как она сравнивается со средним значением."
   ]
  },
  {
   "cell_type": "code",
   "execution_count": 114,
   "id": "b56627c3",
   "metadata": {},
   "outputs": [
    {
     "name": "stdout",
     "output_type": "stream",
     "text": [
      "mediana= 110.0\n"
     ]
    }
   ],
   "source": [
    "median_calories=np.median(calorie_stats)\n",
    "print('mediana=',median_calories)"
   ]
  },
  {
   "cell_type": "markdown",
   "id": "a63ab72f",
   "metadata": {},
   "source": [
    "5. В то время как медиана показывает, что по крайней мере половина наших значений составляет более 100 калорий, было бы более впечатляюще показать, что значительная часть конкурентов имеет более высокое количество калорий, чем CrunchieMunchies.\n",
    "\n",
    "Рассчитайте различные процентили и распечатайте их, пока не найдете наименьший процентиль, превышающий 60 калорий. Сохраните это значение в переменной nth_percentile."
   ]
  },
  {
   "cell_type": "code",
   "execution_count": 124,
   "id": "fe80ce03",
   "metadata": {},
   "outputs": [
    {
     "name": "stdout",
     "output_type": "stream",
     "text": [
      "110.0\n",
      "110.0\n",
      "100.0\n",
      "90.0\n",
      "70.0\n",
      "nth_percentile= 70.0\n"
     ]
    }
   ],
   "source": [
    "print(np.percentile(calorie_stats,75))\n",
    "print(np.percentile(calorie_stats,50))\n",
    "print(np.percentile(calorie_stats,25))\n",
    "print(np.percentile(calorie_stats,10))\n",
    "print(np.percentile(calorie_stats,5))\n",
    "nth_percentile=np.percentile(calorie_stats,4)\n",
    "print('nth_percentile=',nth_percentile)\n"
   ]
  },
  {
   "cell_type": "markdown",
   "id": "a2a3c5aa",
   "metadata": {},
   "source": [
    "6. Хотя процентиль показывает нам, что у большинства конкурентов количество калорий намного выше, это неудобная концепция для использования в маркетинговых материалах.\n",
    "\n",
    "Вместо этого давайте подсчитаем процент хлопьев, в которых содержится более 60 калорий на порцию. Сохраните свой ответ в переменной more_calories и распечатайте его"
   ]
  },
  {
   "cell_type": "code",
   "execution_count": 126,
   "id": "ade0f6ea",
   "metadata": {},
   "outputs": [
    {
     "data": {
      "text/plain": [
       "96.1038961038961"
      ]
     },
     "execution_count": 126,
     "metadata": {},
     "output_type": "execute_result"
    }
   ],
   "source": [
    "more_calories=np.mean(calorie_stats>60)\n",
    "more_calories*100"
   ]
  },
  {
   "cell_type": "markdown",
   "id": "1735d65b",
   "metadata": {},
   "source": [
    "7. Это действительно высокий процент. Это будет очень полезно, когда мы будем продвигать CrunchieMunchies. Но один вопрос заключается в том, насколько велики различия в наборе данных? Можем ли мы сделать обобщение, что в большинстве злаков содержится около 100 калорий или разброс еще больше?\n",
    "\n",
    "Рассчитайте величину отклонения, найдя стандартное отклонение, Сохраните свой ответ в calorie_std и распечатайте на терминале. Как мы можем включить эту ценность в наш анализ?"
   ]
  },
  {
   "cell_type": "code",
   "execution_count": 110,
   "id": "85c8df1f",
   "metadata": {},
   "outputs": [
    {
     "data": {
      "text/plain": [
       "19.35718533390827"
      ]
     },
     "execution_count": 110,
     "metadata": {},
     "output_type": "execute_result"
    }
   ],
   "source": [
    "calorie_std=np.std(calorie_stats)\n",
    "calorie_std"
   ]
  },
  {
   "cell_type": "markdown",
   "id": "037455c5",
   "metadata": {},
   "source": [
    "8. Напишите короткий абзац, в котором кратко изложите свои выводы и то, как, по вашему мнению, эти данные могут быть использованы в интересах Mycrunch при маркетинге CrunchieMunchies."
   ]
  },
  {
   "cell_type": "code",
   "execution_count": 129,
   "id": "c260fee9",
   "metadata": {},
   "outputs": [
    {
     "ename": "SyntaxError",
     "evalue": "invalid syntax (1299159538.py, line 1)",
     "output_type": "error",
     "traceback": [
      "\u001b[1;36m  Input \u001b[1;32mIn [129]\u001b[1;36m\u001b[0m\n\u001b[1;33m    Выводы:\u001b[0m\n\u001b[1;37m           ^\u001b[0m\n\u001b[1;31mSyntaxError\u001b[0m\u001b[1;31m:\u001b[0m invalid syntax\n"
     ]
    }
   ],
   "source": [
    "Выводы:\n",
    "    \n",
    "Медиана количества калорий составляет 110,а среднее значение равно 106,9,со стандартным отклонением 19,4.\n",
    "По количеству калорий CrunchieMunchies находится в 4-м процентиле по отношению ко всем другим хлопьям для завтрака.\n",
    "96% других злаков содержат больше калорий, чем CrunchieMunchies.\n",
    "Из 77 сухих завтраков только три имеют меньше калорий, чем CrunchieMunchies.\n"
   ]
  }
 ],
 "metadata": {
  "kernelspec": {
   "display_name": "Python 3 (ipykernel)",
   "language": "python",
   "name": "python3"
  },
  "language_info": {
   "codemirror_mode": {
    "name": "ipython",
    "version": 3
   },
   "file_extension": ".py",
   "mimetype": "text/x-python",
   "name": "python",
   "nbconvert_exporter": "python",
   "pygments_lexer": "ipython3",
   "version": "3.9.12"
  }
 },
 "nbformat": 4,
 "nbformat_minor": 5
}
