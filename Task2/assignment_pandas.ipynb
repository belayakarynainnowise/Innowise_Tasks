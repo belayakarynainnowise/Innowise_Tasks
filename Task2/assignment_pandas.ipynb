{
 "cells": [
  {
   "cell_type": "markdown",
   "metadata": {},
   "source": [
    "## Датасет собран из базы данных переписи 1994 года и содержит данные о доходах.\n",
    "### Информация о данных:\n",
    "* age: continuous.\n",
    "* workclass: Private, Self-emp-not-inc, Self-emp-inc, Federal-gov, Local-gov, State-gov, Without-pay, Never-worked.\n",
    "* fnlwgt: continuous.\n",
    "* education: Bachelors, Some-college, 11th, HS-grad, Prof-school, Assoc-acdm, Assoc-voc, 9th, 7th-8th, 12th, * Masters, 1st-4th, 10th, Doctorate, 5th-6th, Preschool.\n",
    "* education-num: continuous.\n",
    "* marital-status: Married-civ-spouse, Divorced, Never-married, Separated, Widowed, Married-spouse-absent, Married-AF-spouse.\n",
    "* occupation: Tech-support, Craft-repair, Other-service, Sales, Exec-managerial, Prof-specialty, Handlers-cleaners, Machine-op-inspct, Adm-clerical, Farming-fishing, Transport-moving, Priv-house-serv, Protective-serv, Armed-Forces.\n",
    "* relationship: Wife, Own-child, Husband, Not-in-family, Other-relative, Unmarried.\n",
    "* race: White, Asian-Pac-Islander, Amer-Indian-Eskimo, Other, Black.\n",
    "* sex: Female, Male.\n",
    "* capital-gain: continuous.\n",
    "* capital-loss: continuous.\n",
    "* hours-per-week: continuous.\n",
    "* native-country: United-States, Cambodia, England, Puerto-Rico, Canada, Germany, Outlying-US(Guam-USVI-etc), India, Japan, Greece, South, China, Cuba, Iran, Honduras, Philippines, Italy, Poland, Jamaica, Vietnam, Mexico, Portugal, Ireland, France, Dominican-Republic, Laos, Ecuador, Taiwan, Haiti, Columbia, Hungary, Guatemala, Nicaragua, Scotland, Thailand, Yugoslavia, El-Salvador, Trinadad&Tobago, Peru, Hong, Holand-Netherlands.\n",
    "* salary: >50K,<=50K\n",
    "\n",
    "## Проведите анализ данных при помощи Pandas выполнив поставленные задачи.\n",
    "#### "
   ]
  },
  {
   "cell_type": "code",
   "execution_count": 4,
   "metadata": {},
   "outputs": [],
   "source": [
    "import pandas as pd"
   ]
  },
  {
   "cell_type": "code",
   "execution_count": 5,
   "metadata": {},
   "outputs": [
    {
     "data": {
      "text/html": [
       "<div>\n",
       "<style scoped>\n",
       "    .dataframe tbody tr th:only-of-type {\n",
       "        vertical-align: middle;\n",
       "    }\n",
       "\n",
       "    .dataframe tbody tr th {\n",
       "        vertical-align: top;\n",
       "    }\n",
       "\n",
       "    .dataframe thead th {\n",
       "        text-align: right;\n",
       "    }\n",
       "</style>\n",
       "<table border=\"1\" class=\"dataframe\">\n",
       "  <thead>\n",
       "    <tr style=\"text-align: right;\">\n",
       "      <th></th>\n",
       "      <th>age</th>\n",
       "      <th>workclass</th>\n",
       "      <th>fnlwgt</th>\n",
       "      <th>education</th>\n",
       "      <th>education-num</th>\n",
       "      <th>marital-status</th>\n",
       "      <th>occupation</th>\n",
       "      <th>relationship</th>\n",
       "      <th>race</th>\n",
       "      <th>sex</th>\n",
       "      <th>capital-gain</th>\n",
       "      <th>capital-loss</th>\n",
       "      <th>hours-per-week</th>\n",
       "      <th>native-country</th>\n",
       "      <th>salary</th>\n",
       "    </tr>\n",
       "  </thead>\n",
       "  <tbody>\n",
       "    <tr>\n",
       "      <th>0</th>\n",
       "      <td>39</td>\n",
       "      <td>State-gov</td>\n",
       "      <td>77516</td>\n",
       "      <td>Bachelors</td>\n",
       "      <td>13</td>\n",
       "      <td>Never-married</td>\n",
       "      <td>Adm-clerical</td>\n",
       "      <td>Not-in-family</td>\n",
       "      <td>White</td>\n",
       "      <td>Male</td>\n",
       "      <td>2174</td>\n",
       "      <td>0</td>\n",
       "      <td>40</td>\n",
       "      <td>United-States</td>\n",
       "      <td>&lt;=50K</td>\n",
       "    </tr>\n",
       "    <tr>\n",
       "      <th>1</th>\n",
       "      <td>50</td>\n",
       "      <td>Self-emp-not-inc</td>\n",
       "      <td>83311</td>\n",
       "      <td>Bachelors</td>\n",
       "      <td>13</td>\n",
       "      <td>Married-civ-spouse</td>\n",
       "      <td>Exec-managerial</td>\n",
       "      <td>Husband</td>\n",
       "      <td>White</td>\n",
       "      <td>Male</td>\n",
       "      <td>0</td>\n",
       "      <td>0</td>\n",
       "      <td>13</td>\n",
       "      <td>United-States</td>\n",
       "      <td>&lt;=50K</td>\n",
       "    </tr>\n",
       "    <tr>\n",
       "      <th>2</th>\n",
       "      <td>38</td>\n",
       "      <td>Private</td>\n",
       "      <td>215646</td>\n",
       "      <td>HS-grad</td>\n",
       "      <td>9</td>\n",
       "      <td>Divorced</td>\n",
       "      <td>Handlers-cleaners</td>\n",
       "      <td>Not-in-family</td>\n",
       "      <td>White</td>\n",
       "      <td>Male</td>\n",
       "      <td>0</td>\n",
       "      <td>0</td>\n",
       "      <td>40</td>\n",
       "      <td>United-States</td>\n",
       "      <td>&lt;=50K</td>\n",
       "    </tr>\n",
       "    <tr>\n",
       "      <th>3</th>\n",
       "      <td>53</td>\n",
       "      <td>Private</td>\n",
       "      <td>234721</td>\n",
       "      <td>11th</td>\n",
       "      <td>7</td>\n",
       "      <td>Married-civ-spouse</td>\n",
       "      <td>Handlers-cleaners</td>\n",
       "      <td>Husband</td>\n",
       "      <td>Black</td>\n",
       "      <td>Male</td>\n",
       "      <td>0</td>\n",
       "      <td>0</td>\n",
       "      <td>40</td>\n",
       "      <td>United-States</td>\n",
       "      <td>&lt;=50K</td>\n",
       "    </tr>\n",
       "    <tr>\n",
       "      <th>4</th>\n",
       "      <td>28</td>\n",
       "      <td>Private</td>\n",
       "      <td>338409</td>\n",
       "      <td>Bachelors</td>\n",
       "      <td>13</td>\n",
       "      <td>Married-civ-spouse</td>\n",
       "      <td>Prof-specialty</td>\n",
       "      <td>Wife</td>\n",
       "      <td>Black</td>\n",
       "      <td>Female</td>\n",
       "      <td>0</td>\n",
       "      <td>0</td>\n",
       "      <td>40</td>\n",
       "      <td>Cuba</td>\n",
       "      <td>&lt;=50K</td>\n",
       "    </tr>\n",
       "  </tbody>\n",
       "</table>\n",
       "</div>"
      ],
      "text/plain": [
       "   age         workclass  fnlwgt  education  education-num  \\\n",
       "0   39         State-gov   77516  Bachelors             13   \n",
       "1   50  Self-emp-not-inc   83311  Bachelors             13   \n",
       "2   38           Private  215646    HS-grad              9   \n",
       "3   53           Private  234721       11th              7   \n",
       "4   28           Private  338409  Bachelors             13   \n",
       "\n",
       "       marital-status         occupation   relationship   race     sex  \\\n",
       "0       Never-married       Adm-clerical  Not-in-family  White    Male   \n",
       "1  Married-civ-spouse    Exec-managerial        Husband  White    Male   \n",
       "2            Divorced  Handlers-cleaners  Not-in-family  White    Male   \n",
       "3  Married-civ-spouse  Handlers-cleaners        Husband  Black    Male   \n",
       "4  Married-civ-spouse     Prof-specialty           Wife  Black  Female   \n",
       "\n",
       "   capital-gain  capital-loss  hours-per-week native-country salary  \n",
       "0          2174             0              40  United-States  <=50K  \n",
       "1             0             0              13  United-States  <=50K  \n",
       "2             0             0              40  United-States  <=50K  \n",
       "3             0             0              40  United-States  <=50K  \n",
       "4             0             0              40           Cuba  <=50K  "
      ]
     },
     "execution_count": 5,
     "metadata": {},
     "output_type": "execute_result"
    }
   ],
   "source": [
    "# загружаем датасет\n",
    "data = pd.read_csv(\"./data/adult.data.csv\")\n",
    "data.head()\n"
   ]
  },
  {
   "cell_type": "markdown",
   "metadata": {},
   "source": [
    "**1. Посчитайте, сколько мужчин и женщин (признак *sex*) представлено в этом датасете**"
   ]
  },
  {
   "cell_type": "code",
   "execution_count": 98,
   "metadata": {},
   "outputs": [
    {
     "data": {
      "text/plain": [
       "Male      21790\n",
       "Female    10771\n",
       "Name: sex, dtype: int64"
      ]
     },
     "execution_count": 98,
     "metadata": {},
     "output_type": "execute_result"
    }
   ],
   "source": [
    "male_count=data[data['sex']=='Male'].shape[0]\n",
    "female_count=data[data['sex']=='Female'].shape[0]\n",
    "#data['sex'].value_counts()"
   ]
  },
  {
   "cell_type": "markdown",
   "metadata": {},
   "source": [
    "**2. Каков средний возраст мужчин (признак *age*) по всему датасету?**"
   ]
  },
  {
   "cell_type": "code",
   "execution_count": 6,
   "metadata": {},
   "outputs": [
    {
     "data": {
      "text/plain": [
       "39.43354749885268"
      ]
     },
     "execution_count": 6,
     "metadata": {},
     "output_type": "execute_result"
    }
   ],
   "source": [
    "data[data['sex']=='Male']['age'].mean()"
   ]
  },
  {
   "cell_type": "markdown",
   "metadata": {},
   "source": [
    "**3. Какова доля граждан Соединенных Штатов (признак *native-country*)?**"
   ]
  },
  {
   "cell_type": "code",
   "execution_count": 7,
   "metadata": {},
   "outputs": [
    {
     "data": {
      "text/plain": [
       "0.895857006848684"
      ]
     },
     "execution_count": 7,
     "metadata": {},
     "output_type": "execute_result"
    }
   ],
   "source": [
    "data[data['native-country']=='United-States'].shape[0] / data.shape[0]"
   ]
  },
  {
   "cell_type": "markdown",
   "metadata": {},
   "source": [
    "**4-5. Рассчитайте среднее значение и среднеквадратичное отклонение возраста тех, кто получает более 50K в год (признак *salary*) и тех, кто получает менее 50K в год**"
   ]
  },
  {
   "cell_type": "code",
   "execution_count": 11,
   "metadata": {},
   "outputs": [
    {
     "name": "stdout",
     "output_type": "stream",
     "text": [
      "more_50k_mean= 44.24984058155847 more_50k_std= 10.51902771985177\n",
      "less_50k_mean= 36.78373786407767 less_50k_std= 14.020088490824813\n"
     ]
    }
   ],
   "source": [
    "more_50k=data[data['salary']=='>50K']\n",
    "more_50k_mean=more_50k['age'].mean()\n",
    "more_50k_std=more_50k['age'].std()\n",
    "\n",
    "less_50k=data[data['salary']=='<=50K']\n",
    "less_50k_mean=less_50k['age'].mean()\n",
    "less_50k_std=less_50k['age'].std()\n",
    "\n",
    "print('more_50k_mean=',more_50k_mean,'more_50k_std=',more_50k_std)\n",
    "print('less_50k_mean=',less_50k_mean,'less_50k_std=',less_50k_std)\n"
   ]
  },
  {
   "cell_type": "markdown",
   "metadata": {},
   "source": [
    "**6. Правда ли, что люди, которые получают больше 50k, имеют минимум высшее образование? (признак *education – Bachelors, Prof-school, Assoc-acdm, Assoc-voc, Masters* или *Doctorate*)**"
   ]
  },
  {
   "cell_type": "code",
   "execution_count": 108,
   "metadata": {},
   "outputs": [
    {
     "data": {
      "text/plain": [
       "7        False\n",
       "8         True\n",
       "9         True\n",
       "10       False\n",
       "11        True\n",
       "         ...  \n",
       "32539     True\n",
       "32545     True\n",
       "32554     True\n",
       "32557    False\n",
       "32560    False\n",
       "Name: education, Length: 7841, dtype: bool"
      ]
     },
     "execution_count": 108,
     "metadata": {},
     "output_type": "execute_result"
    }
   ],
   "source": [
    "more_50k=data[data['salary']=='>50K']\n",
    "more_50k['education'].isin(['Bachelors', 'Prof-school', 'Assoc-acdm','Assoc-voc','Masters','Doctorate']) \n",
    "#data[data['salary'] == '>50K']['education'].unique()"
   ]
  },
  {
   "cell_type": "markdown",
   "metadata": {},
   "source": [
    "**7. Выведите статистику возраста для каждой расы (признак *race*) и каждого пола. Используйте *groupby* и *describe*. Найдите таким образом максимальный возраст мужчин расы *Asian-Pac-Islander*.**"
   ]
  },
  {
   "cell_type": "code",
   "execution_count": 12,
   "metadata": {
    "scrolled": true
   },
   "outputs": [
    {
     "name": "stdout",
     "output_type": "stream",
     "text": [
      "race- Amer-Indian-Eskimo sex- Female\n",
      "count    119.000000\n",
      "mean      37.117647\n",
      "std       13.114991\n",
      "min       17.000000\n",
      "25%       27.000000\n",
      "50%       36.000000\n",
      "75%       46.000000\n",
      "max       80.000000\n",
      "Name: age, dtype: float64\n",
      "race- Amer-Indian-Eskimo sex- Male\n",
      "count    192.000000\n",
      "mean      37.208333\n",
      "std       12.049563\n",
      "min       17.000000\n",
      "25%       28.000000\n",
      "50%       35.000000\n",
      "75%       45.000000\n",
      "max       82.000000\n",
      "Name: age, dtype: float64\n",
      "race- Asian-Pac-Islander sex- Female\n",
      "count    346.000000\n",
      "mean      35.089595\n",
      "std       12.300845\n",
      "min       17.000000\n",
      "25%       25.000000\n",
      "50%       33.000000\n",
      "75%       43.750000\n",
      "max       75.000000\n",
      "Name: age, dtype: float64\n",
      "race- Asian-Pac-Islander sex- Male\n",
      "count    693.000000\n",
      "mean      39.073593\n",
      "std       12.883944\n",
      "min       18.000000\n",
      "25%       29.000000\n",
      "50%       37.000000\n",
      "75%       46.000000\n",
      "max       90.000000\n",
      "Name: age, dtype: float64\n",
      "race- Black sex- Female\n",
      "count    1555.000000\n",
      "mean       37.854019\n",
      "std        12.637197\n",
      "min        17.000000\n",
      "25%        28.000000\n",
      "50%        37.000000\n",
      "75%        46.000000\n",
      "max        90.000000\n",
      "Name: age, dtype: float64\n",
      "race- Black sex- Male\n",
      "count    1569.000000\n",
      "mean       37.682600\n",
      "std        12.882612\n",
      "min        17.000000\n",
      "25%        27.000000\n",
      "50%        36.000000\n",
      "75%        46.000000\n",
      "max        90.000000\n",
      "Name: age, dtype: float64\n",
      "race- Other sex- Female\n",
      "count    109.000000\n",
      "mean      31.678899\n",
      "std       11.631599\n",
      "min       17.000000\n",
      "25%       23.000000\n",
      "50%       29.000000\n",
      "75%       39.000000\n",
      "max       74.000000\n",
      "Name: age, dtype: float64\n",
      "race- Other sex- Male\n",
      "count    162.000000\n",
      "mean      34.654321\n",
      "std       11.355531\n",
      "min       17.000000\n",
      "25%       26.000000\n",
      "50%       32.000000\n",
      "75%       42.000000\n",
      "max       77.000000\n",
      "Name: age, dtype: float64\n",
      "race- White sex- Female\n",
      "count    8642.000000\n",
      "mean       36.811618\n",
      "std        14.329093\n",
      "min        17.000000\n",
      "25%        25.000000\n",
      "50%        35.000000\n",
      "75%        46.000000\n",
      "max        90.000000\n",
      "Name: age, dtype: float64\n",
      "race- White sex- Male\n",
      "count    19174.000000\n",
      "mean        39.652498\n",
      "std         13.436029\n",
      "min         17.000000\n",
      "25%         29.000000\n",
      "50%         38.000000\n",
      "75%         49.000000\n",
      "max         90.000000\n",
      "Name: age, dtype: float64\n"
     ]
    }
   ],
   "source": [
    "for (race, sex), i in data.groupby(['race', 'sex']):\n",
    "    print('race-',race,'sex-',sex)\n",
    "    print(i['age'].describe())\n",
    "    "
   ]
  },
  {
   "cell_type": "markdown",
   "metadata": {},
   "source": [
    "**8. Среди кого больше доля зарабатывающих много (>50K): среди женатых или холостых мужчин (признак *marital-status*)? Женатыми считаем тех, у кого *marital-status* начинается с *Married* (Married-civ-spouse, Married-spouse-absent или Married-AF-spouse), остальных считаем холостыми.**"
   ]
  },
  {
   "cell_type": "code",
   "execution_count": 14,
   "metadata": {},
   "outputs": [
    {
     "name": "stdout",
     "output_type": "stream",
     "text": [
      "married_man_count= 89.53767637346142\n",
      "single_man_count 10.462323626538577\n"
     ]
    }
   ],
   "source": [
    "more_50k=data[(data['salary']=='>50K') & (data['sex']=='Male')]\n",
    "b=more_50k.shape[0]\n",
    "married_man_count=more_50k[more_50k['marital-status'].str.startswith('Married')].shape[0]/b*100\n",
    "single_man_count=more_50k[~more_50k['marital-status'].str.startswith('Married')].shape[0]/b*100\n",
    "print('married_man_count=',married_man_count)\n",
    "print('single_man_count',single_man_count)\n"
   ]
  },
  {
   "cell_type": "markdown",
   "metadata": {},
   "source": [
    "**9. Какое максимальное число часов человек работает в неделю (признак *hours-per-week*)? Сколько людей работают такое количество часов и каков среди них процент зарабатывающих много?**"
   ]
  },
  {
   "cell_type": "code",
   "execution_count": 19,
   "metadata": {},
   "outputs": [
    {
     "name": "stdout",
     "output_type": "stream",
     "text": [
      "hours_per_week_max= 99\n",
      "num_people= 85\n",
      "per_num_people_more_50k= 29.41176470588235\n"
     ]
    }
   ],
   "source": [
    "hours_per_week_max=data['hours-per-week'].max()\n",
    "print('hours_per_week_max=',hours_per_week_max)\n",
    "people=data[data['hours-per-week']==hours_per_week_max]\n",
    "num_people=people.shape[0]\n",
    "print('num_people=',num_people)\n",
    "num_people_more_50k=people[people['salary']=='>50K'].shape[0]\n",
    "num_people_more_50k\n",
    "per=num_people_more_50k*100/num_people\n",
    "print('per_num_people_more_50k=',per)"
   ]
  },
  {
   "cell_type": "markdown",
   "metadata": {},
   "source": [
    "**10. Посчитайте среднее время работы (*hours-per-week*) зарабатывающих мало и много (*salary*) для каждой страны (*native-country*).**"
   ]
  },
  {
   "cell_type": "code",
   "execution_count": 20,
   "metadata": {
    "scrolled": true
   },
   "outputs": [
    {
     "name": "stdout",
     "output_type": "stream",
     "text": [
      "country- ? salary- <=50K\n",
      "40.16475972540046\n",
      "country- ? salary- >50K\n",
      "45.54794520547945\n",
      "country- Cambodia salary- <=50K\n",
      "41.416666666666664\n",
      "country- Cambodia salary- >50K\n",
      "40.0\n",
      "country- Canada salary- <=50K\n",
      "37.91463414634146\n",
      "country- Canada salary- >50K\n",
      "45.64102564102564\n",
      "country- China salary- <=50K\n",
      "37.38181818181818\n",
      "country- China salary- >50K\n",
      "38.9\n",
      "country- Columbia salary- <=50K\n",
      "38.68421052631579\n",
      "country- Columbia salary- >50K\n",
      "50.0\n",
      "country- Cuba salary- <=50K\n",
      "37.98571428571429\n",
      "country- Cuba salary- >50K\n",
      "42.44\n",
      "country- Dominican-Republic salary- <=50K\n",
      "42.338235294117645\n",
      "country- Dominican-Republic salary- >50K\n",
      "47.0\n",
      "country- Ecuador salary- <=50K\n",
      "38.041666666666664\n",
      "country- Ecuador salary- >50K\n",
      "48.75\n",
      "country- El-Salvador salary- <=50K\n",
      "36.03092783505155\n",
      "country- El-Salvador salary- >50K\n",
      "45.0\n",
      "country- England salary- <=50K\n",
      "40.483333333333334\n",
      "country- England salary- >50K\n",
      "44.53333333333333\n",
      "country- France salary- <=50K\n",
      "41.05882352941177\n",
      "country- France salary- >50K\n",
      "50.75\n",
      "country- Germany salary- <=50K\n",
      "39.13978494623656\n",
      "country- Germany salary- >50K\n",
      "44.97727272727273\n",
      "country- Greece salary- <=50K\n",
      "41.80952380952381\n",
      "country- Greece salary- >50K\n",
      "50.625\n",
      "country- Guatemala salary- <=50K\n",
      "39.36065573770492\n",
      "country- Guatemala salary- >50K\n",
      "36.666666666666664\n",
      "country- Haiti salary- <=50K\n",
      "36.325\n",
      "country- Haiti salary- >50K\n",
      "42.75\n",
      "country- Holand-Netherlands salary- <=50K\n",
      "40.0\n",
      "country- Honduras salary- <=50K\n",
      "34.333333333333336\n",
      "country- Honduras salary- >50K\n",
      "60.0\n",
      "country- Hong salary- <=50K\n",
      "39.142857142857146\n",
      "country- Hong salary- >50K\n",
      "45.0\n",
      "country- Hungary salary- <=50K\n",
      "31.3\n",
      "country- Hungary salary- >50K\n",
      "50.0\n",
      "country- India salary- <=50K\n",
      "38.233333333333334\n",
      "country- India salary- >50K\n",
      "46.475\n",
      "country- Iran salary- <=50K\n",
      "41.44\n",
      "country- Iran salary- >50K\n",
      "47.5\n",
      "country- Ireland salary- <=50K\n",
      "40.94736842105263\n",
      "country- Ireland salary- >50K\n",
      "48.0\n",
      "country- Italy salary- <=50K\n",
      "39.625\n",
      "country- Italy salary- >50K\n",
      "45.4\n",
      "country- Jamaica salary- <=50K\n",
      "38.23943661971831\n",
      "country- Jamaica salary- >50K\n",
      "41.1\n",
      "country- Japan salary- <=50K\n",
      "41.0\n",
      "country- Japan salary- >50K\n",
      "47.958333333333336\n",
      "country- Laos salary- <=50K\n",
      "40.375\n",
      "country- Laos salary- >50K\n",
      "40.0\n",
      "country- Mexico salary- <=50K\n",
      "40.00327868852459\n",
      "country- Mexico salary- >50K\n",
      "46.57575757575758\n",
      "country- Nicaragua salary- <=50K\n",
      "36.09375\n",
      "country- Nicaragua salary- >50K\n",
      "37.5\n",
      "country- Outlying-US(Guam-USVI-etc) salary- <=50K\n",
      "41.857142857142854\n",
      "country- Peru salary- <=50K\n",
      "35.06896551724138\n",
      "country- Peru salary- >50K\n",
      "40.0\n",
      "country- Philippines salary- <=50K\n",
      "38.065693430656935\n",
      "country- Philippines salary- >50K\n",
      "43.032786885245905\n",
      "country- Poland salary- <=50K\n",
      "38.166666666666664\n",
      "country- Poland salary- >50K\n",
      "39.0\n",
      "country- Portugal salary- <=50K\n",
      "41.93939393939394\n",
      "country- Portugal salary- >50K\n",
      "41.5\n",
      "country- Puerto-Rico salary- <=50K\n",
      "38.470588235294116\n",
      "country- Puerto-Rico salary- >50K\n",
      "39.416666666666664\n",
      "country- Scotland salary- <=50K\n",
      "39.44444444444444\n",
      "country- Scotland salary- >50K\n",
      "46.666666666666664\n",
      "country- South salary- <=50K\n",
      "40.15625\n",
      "country- South salary- >50K\n",
      "51.4375\n",
      "country- Taiwan salary- <=50K\n",
      "33.774193548387096\n",
      "country- Taiwan salary- >50K\n",
      "46.8\n",
      "country- Thailand salary- <=50K\n",
      "42.86666666666667\n",
      "country- Thailand salary- >50K\n",
      "58.333333333333336\n",
      "country- Trinadad&Tobago salary- <=50K\n",
      "37.05882352941177\n",
      "country- Trinadad&Tobago salary- >50K\n",
      "40.0\n",
      "country- United-States salary- <=50K\n",
      "38.79912723305605\n",
      "country- United-States salary- >50K\n",
      "45.50536884674383\n",
      "country- Vietnam salary- <=50K\n",
      "37.193548387096776\n",
      "country- Vietnam salary- >50K\n",
      "39.2\n",
      "country- Yugoslavia salary- <=50K\n",
      "41.6\n",
      "country- Yugoslavia salary- >50K\n",
      "49.5\n"
     ]
    }
   ],
   "source": [
    "for (country,salary), i in data.groupby(['native-country','salary']):\n",
    "    print('country-',country,'salary-',salary)\n",
    "    print(i['hours-per-week'].mean())\n",
    "   "
   ]
  },
  {
   "cell_type": "markdown",
   "metadata": {},
   "source": [
    "**11.Сгруппируйте людей по возрастным группам *young*, *adult*, *retiree*, где:**\n",
    "* *young* соответствует 16-35 лет\n",
    "* *adult* - 35-70 лет\n",
    "* *retiree* - 70-100 лет\n",
    "\n",
    "**Проставьте название соответсвтуещей группы для каждого человека в новой колонке AgeGroup**"
   ]
  },
  {
   "cell_type": "code",
   "execution_count": 6,
   "metadata": {
    "scrolled": true
   },
   "outputs": [
    {
     "data": {
      "text/html": [
       "<div>\n",
       "<style scoped>\n",
       "    .dataframe tbody tr th:only-of-type {\n",
       "        vertical-align: middle;\n",
       "    }\n",
       "\n",
       "    .dataframe tbody tr th {\n",
       "        vertical-align: top;\n",
       "    }\n",
       "\n",
       "    .dataframe thead th {\n",
       "        text-align: right;\n",
       "    }\n",
       "</style>\n",
       "<table border=\"1\" class=\"dataframe\">\n",
       "  <thead>\n",
       "    <tr style=\"text-align: right;\">\n",
       "      <th></th>\n",
       "      <th>age</th>\n",
       "      <th>workclass</th>\n",
       "      <th>fnlwgt</th>\n",
       "      <th>education</th>\n",
       "      <th>education-num</th>\n",
       "      <th>marital-status</th>\n",
       "      <th>occupation</th>\n",
       "      <th>relationship</th>\n",
       "      <th>race</th>\n",
       "      <th>sex</th>\n",
       "      <th>capital-gain</th>\n",
       "      <th>capital-loss</th>\n",
       "      <th>hours-per-week</th>\n",
       "      <th>native-country</th>\n",
       "      <th>salary</th>\n",
       "      <th>AgeGroup</th>\n",
       "    </tr>\n",
       "  </thead>\n",
       "  <tbody>\n",
       "    <tr>\n",
       "      <th>0</th>\n",
       "      <td>39</td>\n",
       "      <td>State-gov</td>\n",
       "      <td>77516</td>\n",
       "      <td>Bachelors</td>\n",
       "      <td>13</td>\n",
       "      <td>Never-married</td>\n",
       "      <td>Adm-clerical</td>\n",
       "      <td>Not-in-family</td>\n",
       "      <td>White</td>\n",
       "      <td>Male</td>\n",
       "      <td>2174</td>\n",
       "      <td>0</td>\n",
       "      <td>40</td>\n",
       "      <td>United-States</td>\n",
       "      <td>&lt;=50K</td>\n",
       "      <td>adult</td>\n",
       "    </tr>\n",
       "    <tr>\n",
       "      <th>1</th>\n",
       "      <td>50</td>\n",
       "      <td>Self-emp-not-inc</td>\n",
       "      <td>83311</td>\n",
       "      <td>Bachelors</td>\n",
       "      <td>13</td>\n",
       "      <td>Married-civ-spouse</td>\n",
       "      <td>Exec-managerial</td>\n",
       "      <td>Husband</td>\n",
       "      <td>White</td>\n",
       "      <td>Male</td>\n",
       "      <td>0</td>\n",
       "      <td>0</td>\n",
       "      <td>13</td>\n",
       "      <td>United-States</td>\n",
       "      <td>&lt;=50K</td>\n",
       "      <td>adult</td>\n",
       "    </tr>\n",
       "    <tr>\n",
       "      <th>2</th>\n",
       "      <td>38</td>\n",
       "      <td>Private</td>\n",
       "      <td>215646</td>\n",
       "      <td>HS-grad</td>\n",
       "      <td>9</td>\n",
       "      <td>Divorced</td>\n",
       "      <td>Handlers-cleaners</td>\n",
       "      <td>Not-in-family</td>\n",
       "      <td>White</td>\n",
       "      <td>Male</td>\n",
       "      <td>0</td>\n",
       "      <td>0</td>\n",
       "      <td>40</td>\n",
       "      <td>United-States</td>\n",
       "      <td>&lt;=50K</td>\n",
       "      <td>adult</td>\n",
       "    </tr>\n",
       "    <tr>\n",
       "      <th>3</th>\n",
       "      <td>53</td>\n",
       "      <td>Private</td>\n",
       "      <td>234721</td>\n",
       "      <td>11th</td>\n",
       "      <td>7</td>\n",
       "      <td>Married-civ-spouse</td>\n",
       "      <td>Handlers-cleaners</td>\n",
       "      <td>Husband</td>\n",
       "      <td>Black</td>\n",
       "      <td>Male</td>\n",
       "      <td>0</td>\n",
       "      <td>0</td>\n",
       "      <td>40</td>\n",
       "      <td>United-States</td>\n",
       "      <td>&lt;=50K</td>\n",
       "      <td>adult</td>\n",
       "    </tr>\n",
       "    <tr>\n",
       "      <th>4</th>\n",
       "      <td>28</td>\n",
       "      <td>Private</td>\n",
       "      <td>338409</td>\n",
       "      <td>Bachelors</td>\n",
       "      <td>13</td>\n",
       "      <td>Married-civ-spouse</td>\n",
       "      <td>Prof-specialty</td>\n",
       "      <td>Wife</td>\n",
       "      <td>Black</td>\n",
       "      <td>Female</td>\n",
       "      <td>0</td>\n",
       "      <td>0</td>\n",
       "      <td>40</td>\n",
       "      <td>Cuba</td>\n",
       "      <td>&lt;=50K</td>\n",
       "      <td>young</td>\n",
       "    </tr>\n",
       "  </tbody>\n",
       "</table>\n",
       "</div>"
      ],
      "text/plain": [
       "   age         workclass  fnlwgt  education  education-num  \\\n",
       "0   39         State-gov   77516  Bachelors             13   \n",
       "1   50  Self-emp-not-inc   83311  Bachelors             13   \n",
       "2   38           Private  215646    HS-grad              9   \n",
       "3   53           Private  234721       11th              7   \n",
       "4   28           Private  338409  Bachelors             13   \n",
       "\n",
       "       marital-status         occupation   relationship   race     sex  \\\n",
       "0       Never-married       Adm-clerical  Not-in-family  White    Male   \n",
       "1  Married-civ-spouse    Exec-managerial        Husband  White    Male   \n",
       "2            Divorced  Handlers-cleaners  Not-in-family  White    Male   \n",
       "3  Married-civ-spouse  Handlers-cleaners        Husband  Black    Male   \n",
       "4  Married-civ-spouse     Prof-specialty           Wife  Black  Female   \n",
       "\n",
       "   capital-gain  capital-loss  hours-per-week native-country salary AgeGroup  \n",
       "0          2174             0              40  United-States  <=50K    adult  \n",
       "1             0             0              13  United-States  <=50K    adult  \n",
       "2             0             0              40  United-States  <=50K    adult  \n",
       "3             0             0              40  United-States  <=50K    adult  \n",
       "4             0             0              40           Cuba  <=50K    young  "
      ]
     },
     "execution_count": 6,
     "metadata": {},
     "output_type": "execute_result"
    }
   ],
   "source": [
    "#data.where(16<data.age>35)\n",
    "\n",
    "import numpy as np\n",
    "\n",
    "conditions = [\n",
    "    (data['age'] > 16) & (data['age'] <=35),\n",
    "    (data['age'] > 35) & (data['age'] <=70),\n",
    "    (data['age'] > 70) & (data['age'] <=100)\n",
    "    ]\n",
    "\n",
    "values = ['young', 'adult', 'retiree']\n",
    "data['AgeGroup'] = np.select(conditions, values)\n",
    "\n",
    "\n",
    "data.head()\n"
   ]
  },
  {
   "cell_type": "markdown",
   "metadata": {},
   "source": [
    "**12-13. Определите количество зарабатывающих >50K в каждой из возрастных групп (колонка AgeGroup), а также выведите название возрастной группы, в которой чаще зарабатывают больше 50К (>50K)**"
   ]
  },
  {
   "cell_type": "code",
   "execution_count": 240,
   "metadata": {},
   "outputs": [
    {
     "name": "stdout",
     "output_type": "stream",
     "text": [
      "adult\n",
      "6042\n",
      "retiree\n",
      "94\n",
      "young\n",
      "1705\n",
      "{'adult': 6042, 'retiree': 94, 'young': 1705}\n",
      "adult\n"
     ]
    }
   ],
   "source": [
    "group_max_salary={}\n",
    "for AgeGroup, i in data.groupby('AgeGroup'):\n",
    "    print(AgeGroup)\n",
    "    a=i[i['salary']=='>50K'].shape[0]\n",
    "    group_max_salary.update({AgeGroup : a})\n",
    "    print(a)\n",
    "\n",
    "\n",
    "print(group_max_salary)    \n",
    "print(max(group_max_salary, key=group_max_salary.get))\n",
    "    \n",
    "\n",
    "    \n",
    "    "
   ]
  },
  {
   "cell_type": "markdown",
   "metadata": {},
   "source": [
    "**14. Сгруппируйте людей по типу занятости (колонка occupation) и определите количество людей в каждой группе. После чего напишите функциюю фильтрации filter_func, которая будет возвращать только те группы, в которых средний возраст (колонка age) не больше 40 и в которых все работники отрабатывают более 5 часов в неделю (колонка hours-per-week)**"
   ]
  },
  {
   "cell_type": "code",
   "execution_count": 7,
   "metadata": {},
   "outputs": [
    {
     "name": "stdout",
     "output_type": "stream",
     "text": [
      "?\n",
      "1843\n",
      "Adm-clerical\n",
      "3770\n",
      "Armed-Forces\n",
      "9\n",
      "Craft-repair\n",
      "4099\n",
      "Exec-managerial\n",
      "4066\n",
      "Farming-fishing\n",
      "994\n",
      "Handlers-cleaners\n",
      "1370\n",
      "Machine-op-inspct\n",
      "2002\n",
      "Other-service\n",
      "3295\n",
      "Priv-house-serv\n",
      "149\n",
      "Prof-specialty\n",
      "4140\n",
      "Protective-serv\n",
      "649\n",
      "Sales\n",
      "3650\n",
      "Tech-support\n",
      "928\n",
      "Transport-moving\n",
      "1597\n",
      "Подходят по условию группы:\n",
      "Armed-Forces\n"
     ]
    }
   ],
   "source": [
    "def filter_func(i):\n",
    "    #print(i)\n",
    "    #if i['age'].mean()<=40:\n",
    "    if (i['age'].mean()<=40) & (i['hours-per-week'] >= 5).all():\n",
    "        return True\n",
    "         \n",
    "    \n",
    "result=list()\n",
    "\n",
    "for occupation, i in data.groupby('occupation'):\n",
    "    print(occupation)\n",
    "    b=i.shape[0]\n",
    "    print(b)\n",
    "    c=filter_func(i)\n",
    "    if c is True:\n",
    "        result.append(occupation)\n",
    "\n",
    "        \n",
    "        \n",
    "print('Подходят по условию группы:')\n",
    "for group in result:\n",
    "    print(group)"
   ]
  },
  {
   "cell_type": "code",
   "execution_count": null,
   "metadata": {},
   "outputs": [],
   "source": []
  }
 ],
 "metadata": {
  "anaconda-cloud": {},
  "kernelspec": {
   "display_name": "Python 3 (ipykernel)",
   "language": "python",
   "name": "python3"
  },
  "language_info": {
   "codemirror_mode": {
    "name": "ipython",
    "version": 3
   },
   "file_extension": ".py",
   "mimetype": "text/x-python",
   "name": "python",
   "nbconvert_exporter": "python",
   "pygments_lexer": "ipython3",
   "version": "3.9.12"
  }
 },
 "nbformat": 4,
 "nbformat_minor": 1
}
